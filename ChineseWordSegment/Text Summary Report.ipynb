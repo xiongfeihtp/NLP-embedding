{
 "cells": [
  {
   "cell_type": "markdown",
   "metadata": {},
   "source": [
    "# Text Summary "
   ]
  },
  {
   "cell_type": "markdown",
   "metadata": {},
   "source": [
    "## 0. Task Definition: \n",
    "### Input:\n",
    "\n",
    "1. Text: [substring1, substring2, substring3, ... substringN], defined as $S_{original}$\n",
    "2. Tile: String\n",
    "\n",
    "### Output: \n",
    "\n",
    "Subset of $S_{original}$: $ [substring_i, substring_j, .. substring_z] $, defined as $S_{substring}$\n",
    "   \n",
    "    "
   ]
  },
  {
   "cell_type": "code",
   "execution_count": 1,
   "metadata": {
    "collapsed": true
   },
   "outputs": [],
   "source": [
    "%load_ext autoreload\n",
    "%autoreload 2"
   ]
  },
  {
   "cell_type": "code",
   "execution_count": 2,
   "metadata": {
    "collapsed": true
   },
   "outputs": [],
   "source": [
    "from summary.text_summary import *"
   ]
  },
  {
   "cell_type": "code",
   "execution_count": 31,
   "metadata": {
    "collapsed": true
   },
   "outputs": [],
   "source": [
    "file_path = 'experiment/analysis.txt'"
   ]
  },
  {
   "cell_type": "code",
   "execution_count": 32,
   "metadata": {
    "collapsed": true
   },
   "outputs": [],
   "source": [
    "title = '英国警方：希望恐怖威胁最高级别不会维持太久'"
   ]
  },
  {
   "cell_type": "code",
   "execution_count": 36,
   "metadata": {
    "collapsed": true
   },
   "outputs": [],
   "source": [
    "text_content = get_text_content(file_path, escape_english=False)"
   ]
  },
  {
   "cell_type": "code",
   "execution_count": 37,
   "metadata": {
    "collapsed": false
   },
   "outputs": [
    {
     "data": {
      "text/plain": [
       "'【环球网报道 记者 朱佩】英国首相特蕾莎∙梅日前称，由于曼彻斯特恐袭案，该国恐怖威胁级别从“严重”提高至“危急”。这意味着可能派遣军队保障安全。据俄新社5月24日报道，伦敦警察厅反恐部门负责人马克•罗利表示，希望恐怖威胁级别不会太长时间维持在最高级别。\\n罗利在回答恐怖威胁“危急”水平制度要维持多久的问题时说道：“我不想预测未来，但如果你看看我们的历史，这样一个威胁级别是非常不寻常和罕见的措施。它从未维持很久，我们也希望这样。但在这样一个高风险期我们将竭尽所能，军队将帮助我们。”\\n当地时间5月22日晚，自杀式恐怖分子在曼彻斯特竞技场音乐厅内实施了爆炸。爆炸造成22人死亡，59人受伤。伤亡者中有许多儿童。至少有8人失踪。恐怖组织“伊斯兰国”声称对爆炸负责。\\n'"
      ]
     },
     "execution_count": 37,
     "metadata": {},
     "output_type": "execute_result"
    }
   ],
   "source": [
    "text_content"
   ]
  },
  {
   "cell_type": "markdown",
   "metadata": {},
   "source": [
    "### Get $ S_o $"
   ]
  },
  {
   "cell_type": "code",
   "execution_count": 57,
   "metadata": {
    "collapsed": false
   },
   "outputs": [],
   "source": [
    "sentences = get_text_sentence(file_path)"
   ]
  },
  {
   "cell_type": "code",
   "execution_count": 58,
   "metadata": {
    "collapsed": false
   },
   "outputs": [
    {
     "data": {
      "text/plain": [
       "['环球网报道 记者 朱佩',\n",
       " '英国首相特蕾莎∙梅日前称',\n",
       " '由于曼彻斯特恐袭案',\n",
       " '该国恐怖威胁级别从“严重”提高至“危急”',\n",
       " '这意味着可能派遣军队保障安全',\n",
       " '据俄新社5月24日报道',\n",
       " '伦敦警察厅反恐部门负责人马克•罗利表示',\n",
       " '希望恐怖威胁级别不会太长时间维持在最高级别',\n",
       " '罗利在回答恐怖威胁“危急”水平制度要维持多久的问题时说道',\n",
       " '“我不想预测未来']"
      ]
     },
     "execution_count": 58,
     "metadata": {},
     "output_type": "execute_result"
    }
   ],
   "source": [
    "sentences[:10]"
   ]
  },
  {
   "cell_type": "markdown",
   "metadata": {},
   "source": [
    "## 1. Get the sentence-text correlations."
   ]
  },
  {
   "cell_type": "markdown",
   "metadata": {},
   "source": [
    "### 1. 1 Sentence2Vec and Text2Vec\n",
    "\n",
    "The weighted sum of Word Vectors. \n",
    "\n",
    "Reference: A SIMPLE BUT TOUGH-TO-BEAT BASELINE FOR SEN- TENCE EMBEDDINGS, * Sanjeev Arora, Yingyu Liang, Tengyu Ma *, Princeton University\n"
   ]
  },
  {
   "cell_type": "markdown",
   "metadata": {},
   "source": [
    "###  1. 2 Correlations. \n",
    "\n",
    "#### 1.2.1 Distance: \n",
    "\n",
    "For each sentence in $ S_o $, we caculate the two distance: 1. $ d_t $: the consine distance of sentence-title; 2. $ d_c $: the consine distance of sentence-content. (Content is the vector of this text.)\n",
    "\n",
    "#### 1.2.2 Correlation:\n",
    "\n",
    "For each sentence in text. We define the correlation as: \n",
    "\n",
    "$$ C = p * \\sigma(cosine_{title}) + (1 - p) * \\sigma(cosine_{content}) , \\sigma = softmax $$\n",
    "\n",
    "In other words, the single correlation defined as $ 1 - d_i $"
   ]
  },
  {
   "cell_type": "markdown",
   "metadata": {},
   "source": [
    "We could get the correlations of each sentences. "
   ]
  },
  {
   "cell_type": "code",
   "execution_count": 54,
   "metadata": {
    "collapsed": false
   },
   "outputs": [
    {
     "name": "stderr",
     "output_type": "stream",
     "text": [
      "/Users/kouminquan/anaconda/envs/env-3/lib/python3.4/site-packages/matplotlib/__init__.py:1401: UserWarning:  This call to matplotlib.use() has no effect\n",
      "because the backend has already been chosen;\n",
      "matplotlib.use() must be called *before* pylab, matplotlib.pyplot,\n",
      "or matplotlib.backends is imported for the first time.\n",
      "\n",
      "  warnings.warn(_use_error_msg)\n"
     ]
    }
   ],
   "source": [
    "from summary.nolinear_summary import get_one_file_complex_correlation"
   ]
  },
  {
   "cell_type": "code",
   "execution_count": 45,
   "metadata": {
    "collapsed": false
   },
   "outputs": [
    {
     "name": "stdout",
     "output_type": "stream",
     "text": [
      "CPU times: user 138 ms, sys: 4.84 ms, total: 143 ms\n",
      "Wall time: 143 ms\n"
     ]
    }
   ],
   "source": [
    "%%time\n",
    "correlations = get_one_file_complex_correlation(file_path, title=title)"
   ]
  },
  {
   "cell_type": "code",
   "execution_count": 41,
   "metadata": {
    "collapsed": false
   },
   "outputs": [
    {
     "data": {
      "text/plain": [
       "[0.025368230050735983,\n",
       " 0.0450608054312421,\n",
       " 0.041277128688496693,\n",
       " 0.037957553864266552,\n",
       " 0.049095815444793883,\n",
       " 0.028002114653755385,\n",
       " 0.05584990867868056,\n",
       " 0.060557024103807658,\n",
       " 0.05746783362596726,\n",
       " 0.042842974302011408]"
      ]
     },
     "execution_count": 41,
     "metadata": {},
     "output_type": "execute_result"
    }
   ],
   "source": [
    "correlations[:10]"
   ]
  },
  {
   "cell_type": "code",
   "execution_count": 11,
   "metadata": {
    "collapsed": true
   },
   "outputs": [],
   "source": [
    "%matplotlib inline"
   ]
  },
  {
   "cell_type": "code",
   "execution_count": 12,
   "metadata": {
    "collapsed": true
   },
   "outputs": [],
   "source": [
    "import matplotlib.pyplot as plt"
   ]
  },
  {
   "cell_type": "code",
   "execution_count": 42,
   "metadata": {
    "collapsed": false
   },
   "outputs": [
    {
     "data": {
      "text/plain": [
       "[<matplotlib.lines.Line2D at 0x11b9ac128>]"
      ]
     },
     "execution_count": 42,
     "metadata": {},
     "output_type": "execute_result"
    },
    {
     "data": {
      "image/png": "[encoded data removed]",
      "text/plain": [
       "<matplotlib.figure.Figure at 0x11b8f6908>"
      ]
     },
     "metadata": {},
     "output_type": "display_data"
    }
   ],
   "source": [
    "plt.plot(correlations)"
   ]
  },
  {
   "cell_type": "code",
   "execution_count": 14,
   "metadata": {
    "collapsed": false
   },
   "outputs": [],
   "source": [
    "from summary.utils import plot_corelation"
   ]
  },
  {
   "cell_type": "code",
   "execution_count": 26,
   "metadata": {
    "collapsed": true
   },
   "outputs": [],
   "source": [
    "from summary.utils import accumulate, is_outliner"
   ]
  },
  {
   "cell_type": "code",
   "execution_count": 27,
   "metadata": {
    "collapsed": true
   },
   "outputs": [],
   "source": [
    "from summary.utils import clean_outliner"
   ]
  },
  {
   "cell_type": "code",
   "execution_count": 47,
   "metadata": {
    "collapsed": false
   },
   "outputs": [
    {
     "name": "stderr",
     "output_type": "stream",
     "text": [
      "/Users/kouminquan/AI-LAB/Chinese-New-Phrase-Detection/summary/utils.py:42: RuntimeWarning: divide by zero encountered in double_scalars\n",
      "  if (_1st_percentile / x) > threshold or (x / _3th_percentile) > threshold:\n"
     ]
    }
   ],
   "source": [
    "correlations = clean_outliner(correlations)"
   ]
  },
  {
   "cell_type": "code",
   "execution_count": 48,
   "metadata": {
    "collapsed": false
   },
   "outputs": [
    {
     "name": "stdout",
     "output_type": "stream",
     "text": [
      "corelation length is: 23\n"
     ]
    },
    {
     "data": {
      "image/png": "[encoded data removed]",
      "text/plain": [
       "<matplotlib.figure.Figure at 0x11b8fbb38>"
      ]
     },
     "metadata": {},
     "output_type": "display_data"
    }
   ],
   "source": [
    "plot_corelation(accumulate(correlations))"
   ]
  },
  {
   "cell_type": "markdown",
   "metadata": {},
   "source": [
    "## 2. Analysis if one text is fit for get summary. "
   ]
  },
  {
   "cell_type": "code",
   "execution_count": 16,
   "metadata": {
    "collapsed": true
   },
   "outputs": [],
   "source": [
    "verbose = 'experiment/many_verbose.txt'"
   ]
  },
  {
   "cell_type": "code",
   "execution_count": 17,
   "metadata": {
    "collapsed": true
   },
   "outputs": [],
   "source": [
    "title = '处女座剧组人设崩塌？穿帮+广告毁了《欢乐颂2》'"
   ]
  },
  {
   "cell_type": "code",
   "execution_count": 18,
   "metadata": {
    "collapsed": false
   },
   "outputs": [
    {
     "name": "stdout",
     "output_type": "stream",
     "text": [
      "CPU times: user 797 ms, sys: 23.9 ms, total: 821 ms\n",
      "Wall time: 1.03 s\n"
     ]
    }
   ],
   "source": [
    "%%time\n",
    "verbose_correlations = get_one_file_complex_correlation(file_path, title=title)"
   ]
  },
  {
   "cell_type": "code",
   "execution_count": 49,
   "metadata": {
    "collapsed": false
   },
   "outputs": [
    {
     "data": {
      "text/plain": [
       "[<matplotlib.lines.Line2D at 0x11b426da0>]"
      ]
     },
     "execution_count": 49,
     "metadata": {},
     "output_type": "execute_result"
    },
    {
     "data": {
      "image/png": "[encoded data removed]",
      "text/plain": [
       "<matplotlib.figure.Figure at 0x11b67f710>"
      ]
     },
     "metadata": {},
     "output_type": "display_data"
    }
   ],
   "source": [
    "plt.plot(verbose_correlations)"
   ]
  },
  {
   "cell_type": "code",
   "execution_count": 50,
   "metadata": {
    "collapsed": false
   },
   "outputs": [
    {
     "name": "stdout",
     "output_type": "stream",
     "text": [
      "corelation length is: 93\n"
     ]
    },
    {
     "data": {
      "image/png": "[encoded data removed]",
      "text/plain": [
       "<matplotlib.figure.Figure at 0x11b3a9748>"
      ]
     },
     "metadata": {},
     "output_type": "display_data"
    }
   ],
   "source": [
    "plot_corelation(accumulate(clean_outliner(verbose_correlations)))"
   ]
  },
  {
   "cell_type": "markdown",
   "metadata": {},
   "source": [
    "We could see, the line is almost *straight*, which means has no main point."
   ]
  },
  {
   "cell_type": "code",
   "execution_count": 51,
   "metadata": {
    "collapsed": true
   },
   "outputs": [],
   "source": [
    "from summary.suitful import have_main_point"
   ]
  },
  {
   "cell_type": "code",
   "execution_count": 52,
   "metadata": {
    "collapsed": false
   },
   "outputs": [
    {
     "name": "stdout",
     "output_type": "stream",
     "text": [
      "correlation length is: 93\n"
     ]
    },
    {
     "data": {
      "text/plain": [
       "(False, 0.0002816149681461118)"
      ]
     },
     "execution_count": 52,
     "metadata": {},
     "output_type": "execute_result"
    },
    {
     "data": {
      "image/png": "[encoded data removed]",
      "text/plain": [
       "<matplotlib.figure.Figure at 0x11b30c7b8>"
      ]
     },
     "metadata": {},
     "output_type": "display_data"
    }
   ],
   "source": [
    "have_main_point(verbose_correlations)"
   ]
  },
  {
   "cell_type": "code",
   "execution_count": 53,
   "metadata": {
    "collapsed": false
   },
   "outputs": [
    {
     "name": "stdout",
     "output_type": "stream",
     "text": [
      "correlation length is: 23\n"
     ]
    },
    {
     "data": {
      "text/plain": [
       "(True, 0.001758250979710917)"
      ]
     },
     "execution_count": 53,
     "metadata": {},
     "output_type": "execute_result"
    },
    {
     "data": {
      "image/png": "[encoded data removed]",
      "text/plain": [
       "<matplotlib.figure.Figure at 0x11b8ca780>"
      ]
     },
     "metadata": {},
     "output_type": "display_data"
    }
   ],
   "source": [
    "have_main_point(correlations)"
   ]
  },
  {
   "cell_type": "markdown",
   "metadata": {},
   "source": [
    "Note: ** Coherence is beyond current consideration.**"
   ]
  },
  {
   "cell_type": "markdown",
   "metadata": {},
   "source": [
    "## 3. Get the main sentences."
   ]
  },
  {
   "cell_type": "markdown",
   "metadata": {},
   "source": [
    "### 3.1 Put the sentences into right 'sentence bucket'"
   ]
  },
  {
   "cell_type": "code",
   "execution_count": 55,
   "metadata": {
    "collapsed": true
   },
   "outputs": [],
   "source": [
    "from summary.nolinear_summary import get_complete_sentences_with_correlations"
   ]
  },
  {
   "cell_type": "code",
   "execution_count": 64,
   "metadata": {
    "collapsed": false
   },
   "outputs": [],
   "source": [
    "correlations = get_one_file_complex_correlation(file_path, title=title)"
   ]
  },
  {
   "cell_type": "code",
   "execution_count": 69,
   "metadata": {
    "collapsed": false
   },
   "outputs": [
    {
     "name": "stderr",
     "output_type": "stream",
     "text": [
      "/Users/kouminquan/AI-LAB/Chinese-New-Phrase-Detection/summary/utils.py:44: RuntimeWarning: divide by zero encountered in double_scalars\n",
      "  else:\n"
     ]
    }
   ],
   "source": [
    "complete_sentences = get_complete_sentences_with_correlations(sentences, correlations, text_content)"
   ]
  },
  {
   "cell_type": "code",
   "execution_count": 70,
   "metadata": {
    "collapsed": false
   },
   "outputs": [],
   "source": [
    "complete_sentenes = list(complete_sentences)"
   ]
  },
  {
   "cell_type": "code",
   "execution_count": 71,
   "metadata": {
    "collapsed": false
   },
   "outputs": [
    {
     "data": {
      "text/plain": [
       "[(['环球网报道 记者 朱佩'], [0.025368230050735983]),\n",
       " (['英国首相特蕾莎∙梅日前称', '由于曼彻斯特恐袭案', '该国恐怖威胁级别从“严重”提高至“危急”'],\n",
       "  [0.0450608054312421, 0.041277128688496693, 0.037957553864266552]),\n",
       " (['这意味着可能派遣军队保障安全'], [0.049095815444793883]),\n",
       " (['据俄新社5月24日报道', '伦敦警察厅反恐部门负责人马克•罗利表示', '希望恐怖威胁级别不会太长时间维持在最高级别'],\n",
       "  [0.028002114653755385, 0.05584990867868056, 0.060557024103807658]),\n",
       " (['罗利在回答恐怖威胁“危急”水平制度要维持多久的问题时说道'], [0.05746783362596726])]"
      ]
     },
     "execution_count": 71,
     "metadata": {},
     "output_type": "execute_result"
    }
   ],
   "source": [
    "complete_sentenes[:5]"
   ]
  },
  {
   "cell_type": "markdown",
   "metadata": {},
   "source": [
    "## Compound(Nolinear) correlations\n",
    "If we analysis one sentence, which consist of several sub sentences, such as: ['英国首相特蕾莎∙梅日前称', '由于曼彻斯特恐袭案', '该国恐怖威胁级别从“严重”提高至“危急”'], with a correlations [0.0450608054312421, 0.041277128688496693, 0.037957553864266552], if some value is outlinear of the whole text subsentences, the value would be None.\n",
    "\n",
    "We need get the compound correlation of this complete sentence.\n",
    "We define the complex or nolinear correlation of a sentence as: \n",
    "\n",
    "Define: \n",
    "\n",
    "+ Correlation_nolinear to be  $ C_{nl}$\n",
    "+ subsentences's correlations to be $ C_s $, e.g [0.0450608054312421, 0.041277128688496693, 0.037957553864266552, None]\n",
    "\n",
    "Analysis: \n",
    "\n",
    "$$ C_{nl} \\propto C_i \\quad , (C_i \\in C_s )$$\n",
    "$$\\therefore \\quad C_{nl} = \\sum{C_s}$$\n",
    "However, there are some sentences have so many sub-sentences, and some sentences have *some * sub-sentences but with **high correlations.**. The result of this phenomenon is the sentences with so many short substences will have a very large compound correlaton. \n",
    "\n",
    "Considering the length of one sentence. \n",
    "$$ C_{nl} \\propto length(sentence)$$\n",
    "$$ \\therefore \\quad C_{nl} = mean(C_s) * length(sentence) $$\n",
    "\n",
    "In order to decrease the influence of very long sentence, change the formula above to: \n",
    "\n",
    "$$ C_{nl} = mean(C_s) * \\log(len(sentence))$$\n",
    "\n",
    "But, there are so many sentences consist *verbose* or not important sub-senteces, therefore, \n",
    "\n",
    "$$ C_{nl} \\propto Ratio_{importants}$$\n",
    "\n",
    "therefore, we could calculate the *important content ratio * of one sentence by the ratio of its outlinears.\n",
    "\n",
    "$$ content_ratio = \\frac{num(substrings_{important})} {num{(substrings)}}$$\n",
    "\n",
    "$$ \\therefore C_{nl} = mean(C_s) * \\log(len(sentence)* content_{ratio} + 1))$$\n",
    "\n",
    "**NOTE: ** \n",
    "1. [None, None, None, X] VS [X]\n",
    "2. Delete the outlinear substring in a sentence.\n"
   ]
  },
  {
   "cell_type": "code",
   "execution_count": 78,
   "metadata": {
    "collapsed": true
   },
   "outputs": [],
   "source": [
    "from summary.nolinear_summary import get_merged_correlation, f"
   ]
  },
  {
   "cell_type": "code",
   "execution_count": 80,
   "metadata": {
    "collapsed": false
   },
   "outputs": [
    {
     "data": {
      "text/plain": [
       "0.063037683546425624"
      ]
     },
     "execution_count": 80,
     "metadata": {},
     "output_type": "execute_result"
    }
   ],
   "source": [
    "get_merged_correlation(complete_sentenes[0][1], complete_sentenes[0][0], f)"
   ]
  },
  {
   "cell_type": "code",
   "execution_count": 86,
   "metadata": {
    "collapsed": false
   },
   "outputs": [
    {
     "name": "stdout",
     "output_type": "stream",
     "text": [
      "['环球网报道 记者 朱佩']: [0.025368230050735983]: 0.06303768354642562\n",
      "['英国首相特蕾莎∙梅日前称', '由于曼彻斯特恐袭案', '该国恐怖威胁级别从“严重”提高至“危急”']: [0.0450608054312421, 0.041277128688496693, 0.037957553864266552]: 0.1548584897091741\n",
      "['这意味着可能派遣军队保障安全']: [0.049095815444793883]: 0.13295393288855106\n",
      "['据俄新社5月24日报道', '伦敦警察厅反恐部门负责人马克•罗利表示', '希望恐怖威胁级别不会太长时间维持在最高级别']: [0.028002114653755385, 0.05584990867868056, 0.060557024103807658]: 0.19019844719626167\n",
      "['罗利在回答恐怖威胁“危急”水平制度要维持多久的问题时说道']: [0.05746783362596726]: 0.19351119652707605\n",
      "['“我不想预测未来', '但如果你看看我们的历史', '这样一个威胁级别是非常不寻常和罕见的措施']: [0.042842974302011408, 0.043014432672896244, 0.044227022903208443]: 0.15995526022583584\n",
      "['它从未维持很久', '我们也希望这样']: [0.060480219714353009, 0.029175791375924753]: 0.12139648943152434\n",
      "['但在这样一个高风险期我们将竭尽所能', '军队将帮助我们']: [0.046493834965511821, 0.040764946368631129]: 0.14043759087196667\n",
      "['”']: [None]: -1\n",
      "['当地时间5月22日晚', '自杀式恐怖分子在曼彻斯特竞技场音乐厅内实施了爆炸']: [0.02819821415569982, 0.049350460598615836]: 0.13785626522941458\n",
      "['爆炸造成22人死亡', '59人受伤']: [0.033250690411189512, 0.033938445129447978]: 0.09097577600635351\n",
      "['伤亡者中有许多儿童']: [0.051882708198994376]: 0.11946435048316441\n",
      "['至少有8人失踪']: [0.045307018986539417]: 0.09421329741028711\n",
      "['恐怖组织“伊斯兰国”声称对爆炸负责']: [0.050436825675230071]: 0.14578117648961714\n"
     ]
    },
    {
     "name": "stderr",
     "output_type": "stream",
     "text": [
      "/Users/kouminquan/anaconda/envs/env-3/lib/python3.4/site-packages/numpy/core/fromnumeric.py:2889: RuntimeWarning: Mean of empty slice.\n",
      "  out=out, **kwargs)\n",
      "/Users/kouminquan/anaconda/envs/env-3/lib/python3.4/site-packages/numpy/core/_methods.py:80: RuntimeWarning: invalid value encountered in double_scalars\n",
      "  ret = ret.dtype.type(ret / rcount)\n"
     ]
    }
   ],
   "source": [
    "for s, c in complete_sentenes:\n",
    "    compound_correlations = get_merged_correlation(c, s, f)\n",
    "    print(\"{}: {}: {}\".format(s, c, compound_correlations))"
   ]
  },
  {
   "cell_type": "markdown",
   "metadata": {},
   "source": [
    "### At Last: Choose the fitful top-n based on those compund correlations."
   ]
  }
 ],
 "metadata": {
  "kernelspec": {
   "display_name": "Python 3",
   "language": "python",
   "name": "python3"
  },
  "language_info": {
   "codemirror_mode": {
    "name": "ipython",
    "version": 3
   },
   "file_extension": ".py",
   "mimetype": "text/x-python",
   "name": "python",
   "nbconvert_exporter": "python",
   "pygments_lexer": "ipython3",
   "version": "3.4.5"
  }
 },
 "nbformat": 4,
 "nbformat_minor": 2
}
